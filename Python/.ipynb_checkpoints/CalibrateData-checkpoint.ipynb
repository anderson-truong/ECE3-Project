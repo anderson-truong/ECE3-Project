{
 "cells": [
  {
   "cell_type": "code",
   "execution_count": 1,
   "id": "0103e08c-97c8-466f-91e9-b6eb2ca1b5ff",
   "metadata": {},
   "outputs": [],
   "source": [
    "import serial\n",
    "from datetime import datetime"
   ]
  },
  {
   "cell_type": "code",
   "execution_count": 6,
   "id": "0db3a3e7-498d-4086-85c8-53cb900a6284",
   "metadata": {},
   "outputs": [
    {
     "name": "stdin",
     "output_type": "stream",
     "text": [
      " \n",
      " \n",
      " \n",
      " \n",
      " \n",
      " \n",
      " \n",
      " \n",
      " \n",
      " \n",
      " \n"
     ]
    }
   ],
   "source": [
    "def calibrate():\n",
    "    ser = serial.Serial()\n",
    "    ser.baudrate = 9600\n",
    "    ser.port = 'COM7'\n",
    "    today = datetime.now().strftime('%d%m%Y_%H%M')\n",
    "    file = open(f'../Documentation/Calibration/sensorcalibration_{today}.txt', 'w')\n",
    "    # 5 rows\n",
    "    data_chunk = []\n",
    "\n",
    "    ser.open()\n",
    "    for i in range(17):\n",
    "        input()\n",
    "        ser.write(b'1')\n",
    "        for i in range(5):\n",
    "            data_chunk.append(ser.readline().decode('utf-8').rstrip('\\n'))\n",
    "    ser.close()\n",
    "    file.writelines(data_chunk)\n",
    "calibrate()"
   ]
  },
  {
   "cell_type": "code",
   "execution_count": null,
   "id": "494c2ace-1b57-4941-b8fa-3ce093f95b12",
   "metadata": {},
   "outputs": [],
   "source": []
  }
 ],
 "metadata": {
  "kernelspec": {
   "display_name": "Python 3 (ipykernel)",
   "language": "python",
   "name": "python3"
  },
  "language_info": {
   "codemirror_mode": {
    "name": "ipython",
    "version": 3
   },
   "file_extension": ".py",
   "mimetype": "text/x-python",
   "name": "python",
   "nbconvert_exporter": "python",
   "pygments_lexer": "ipython3",
   "version": "3.9.7"
  }
 },
 "nbformat": 4,
 "nbformat_minor": 5
}
